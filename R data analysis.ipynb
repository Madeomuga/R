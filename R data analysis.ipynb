{
 "cells": [
  {
   "cell_type": "markdown",
   "id": "5907c63f",
   "metadata": {},
   "source": [
    "# Installing and opening packages"
   ]
  },
  {
   "cell_type": "code",
   "execution_count": null,
   "id": "2205158e",
   "metadata": {},
   "outputs": [],
   "source": [
    "#install.packages(\"tidyverse\")\n",
    "\n",
    "#install.packages(\"ggplot2\")\n",
    "library(ggplot2)\n",
    "library(tidyverse)\n"
   ]
  },
  {
   "cell_type": "markdown",
   "id": "f140e06a",
   "metadata": {},
   "source": [
    "# Navigating and setting working directory"
   ]
  },
  {
   "cell_type": "code",
   "execution_count": null,
   "id": "be0fcddd",
   "metadata": {},
   "outputs": [],
   "source": [
    "getwd()\n",
    "setwd(\"/Users/madeo/OneDrive/Cloud/Learn programming/R/\")"
   ]
  },
  {
   "cell_type": "markdown",
   "id": "0f7ed046",
   "metadata": {},
   "source": [
    "# Opening files"
   ]
  },
  {
   "cell_type": "code",
   "execution_count": null,
   "id": "2045969a",
   "metadata": {},
   "outputs": [],
   "source": [
    "df <- read.csv(\"df.csv\")"
   ]
  },
  {
   "cell_type": "markdown",
   "id": "014481ed",
   "metadata": {},
   "source": [
    "# Creating a new dataframe based on an existing dataframe\n",
    "#### In this file there is a column that registers dates. If we check the nature of the variable with class() we will see that. A new column is created based on the previous date format and stored in a variable"
   ]
  },
  {
   "cell_type": "code",
   "execution_count": null,
   "id": "57e96051",
   "metadata": {},
   "outputs": [],
   "source": [
    "class(df$Date)"
   ]
  },
  {
   "cell_type": "code",
   "execution_count": null,
   "id": "7c6dc28f",
   "metadata": {},
   "outputs": [],
   "source": [
    "date_col <- as.Date(df$Date, \"%d/%m/%Y\")"
   ]
  },
  {
   "cell_type": "markdown",
   "id": "30ee63bb",
   "metadata": {},
   "source": [
    "#### Then we remove the data from the old column and we append the new data"
   ]
  },
  {
   "cell_type": "code",
   "execution_count": null,
   "id": "4d8cd35c",
   "metadata": {},
   "outputs": [],
   "source": [
    "df$Date <- NULL\n",
    "df$Date <- date_col\n",
    "df$Date"
   ]
  },
  {
   "cell_type": "markdown",
   "id": "21801d7c",
   "metadata": {},
   "source": [
    "#### Let's create two more columns for month and year base on the date to manipulate in a data better way. To do so we will use the function mutate. The mutate() function adds new variables and preserves existing ones; transmute() adds new variables and drops existing ones. New variables overwrite existing variables of the same name. Variables can be removed by setting their value to NULL. Here we will use the mutate function will create a new variable based on a vector of values. \n",
    "\n",
    "#### Furthermore we will use the pipe operater %>%. The pipe operator is a special operational function available under the magrittr and dplyr package (basically developed under magrittr), which allows us to pass the result of one function/argument to the other one in sequence. It is generally denoted by symbol %>% in R Programming. Usage of this operator increases, readability, efficiency, and simplicity of your code when you have nested functions in your code loop."
   ]
  },
  {
   "cell_type": "code",
   "execution_count": null,
   "id": "eebf0e48",
   "metadata": {},
   "outputs": [],
   "source": [
    "df<-df %>%  mutate(month=format(Date,\"%B\"), year=format(Date,\"%Y\"))"
   ]
  },
  {
   "cell_type": "markdown",
   "id": "d7c5b4de",
   "metadata": {},
   "source": [
    "#### Our objective now is to calculate FOR EACH MONTH the total amount earned and spent. To do so we will use the function summarise to do the calculations and store them in a new dataframe that will be grouped by months using the function group_by.\n",
    "\n",
    "#### summarise() creates a new data frame. It will have one (or more) rows for each combination of grouping variables; if there are no grouping variables, the output will have a single row summarising all observations in the input. It will contain one column for each grouping variable and one column for each of the summary statistics that you have specified. \n",
    "\n",
    "#### Most data operations are done on groups defined by variables. group_by() takes an existing tbl and converts it into a grouped tbl where operations are performed \"by group\". ungroup() removes grouping."
   ]
  },
  {
   "cell_type": "code",
   "execution_count": null,
   "id": "652498d4",
   "metadata": {},
   "outputs": [],
   "source": [
    "#2020\n",
    "Total_in_out_2020 <- df %>%  group_by(month) %>% summarise(total_out=sum(Amount[InOut==\"Out\" & year==\"2020\"]),\n",
    "                                                            total_in=sum(Amount[InOut==\"In\" & year==\"2020\"]))\n",
    "\n",
    "#2021\n",
    "Total_in_out_2021 <- df %>%  group_by(month) %>% summarise(total_out=sum(Amount[InOut==\"Out\" & year==\"2021\"]),\n",
    "                                                           total_in=sum(Amount[InOut==\"In\" & year==\"2021\"]))"
   ]
  },
  {
   "cell_type": "markdown",
   "id": "901fb352",
   "metadata": {},
   "source": [
    "#### The months in this new data frame are not in order by month"
   ]
  },
  {
   "cell_type": "code",
   "execution_count": null,
   "id": "335169f9",
   "metadata": {},
   "outputs": [],
   "source": [
    "Total_in_out_2020"
   ]
  },
  {
   "cell_type": "markdown",
   "id": "16a46743",
   "metadata": {},
   "source": [
    "#### To order them we will use the function slice() to index the rows by their location and the match funtion to reorder them base on a vector given:"
   ]
  },
  {
   "cell_type": "code",
   "execution_count": null,
   "id": "09fe43d7",
   "metadata": {},
   "outputs": [],
   "source": [
    "month_order<-c(\"enero\",\"febrero\",\"marzo\",\"abril\",\"mayo\",\"junio\",\"julio\",\"agosto\",\"sepriembre\",\"octubre\",\n",
    "               \"noviembre\",\"diciembre\")\n",
    "\n",
    "Total_in_out_2020 <- Total_in_out_2020 %>% slice(match(month_order,month))\n",
    "\n",
    "Total_in_out_2021 <- Total_in_out_2021 %>% slice(match(month_order,month))"
   ]
  },
  {
   "cell_type": "markdown",
   "id": "aafc78a7",
   "metadata": {},
   "source": [
    "#### Now we will create an additional column named as savings in which we substract what we have spent to of what we have earnt"
   ]
  },
  {
   "cell_type": "code",
   "execution_count": null,
   "id": "a5664d3b",
   "metadata": {},
   "outputs": [],
   "source": [
    "Total_in_out_2020 <- Total_in_out_2020 %>%  mutate(savings=total_in-total_out)\n",
    "Total_in_out_2021 <- Total_in_out_2021 %>%  mutate(savings=total_in-total_out)"
   ]
  },
  {
   "cell_type": "markdown",
   "id": "3ffb600d",
   "metadata": {},
   "source": [
    "#### We check it now"
   ]
  },
  {
   "cell_type": "code",
   "execution_count": null,
   "id": "648e967b",
   "metadata": {},
   "outputs": [],
   "source": [
    "sum(Total_in_out_2020$savings)\n",
    "\n",
    "sum(Total_in_out_2021$savings)\n"
   ]
  },
  {
   "cell_type": "code",
   "execution_count": 2,
   "id": "8dc2d89e",
   "metadata": {},
   "outputs": [
    {
     "ename": "ERROR",
     "evalue": "Error in parse(text = x, srcfile = src): <text>:1:6: unexpected symbol\n1: !pip install\n         ^\n",
     "output_type": "error",
     "traceback": [
      "Error in parse(text = x, srcfile = src): <text>:1:6: unexpected symbol\n1: !pip install\n         ^\nTraceback:\n"
     ]
    }
   ],
   "source": []
  },
  {
   "cell_type": "code",
   "execution_count": null,
   "id": "6296a65a",
   "metadata": {},
   "outputs": [],
   "source": []
  },
  {
   "cell_type": "code",
   "execution_count": null,
   "id": "a254ff96",
   "metadata": {},
   "outputs": [],
   "source": []
  }
 ],
 "metadata": {
  "kernelspec": {
   "display_name": "R",
   "language": "R",
   "name": "ir"
  },
  "language_info": {
   "codemirror_mode": "r",
   "file_extension": ".r",
   "mimetype": "text/x-r-source",
   "name": "R",
   "pygments_lexer": "r",
   "version": "3.6.1"
  }
 },
 "nbformat": 4,
 "nbformat_minor": 5
}
